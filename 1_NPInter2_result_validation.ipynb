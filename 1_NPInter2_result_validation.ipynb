{
 "cells": [
  {
   "cell_type": "markdown",
   "id": "f3cd4dac-2fe7-490f-8c0a-e1ec89e9c7d2",
   "metadata": {},
   "source": [
    "# 1.Environment and data preparation"
   ]
  },
  {
   "cell_type": "markdown",
   "id": "e3758aa8-7049-46b8-8b61-f8ff328c2717",
   "metadata": {},
   "source": [
    "## 1.1.Import"
   ]
  },
  {
   "cell_type": "code",
   "execution_count": 1,
   "id": "f4478f40-9a88-43b8-badd-2e9ad3a8d42a",
   "metadata": {
    "scrolled": true
   },
   "outputs": [
    {
     "name": "stderr",
     "output_type": "stream",
     "text": [
      "2024-07-18 10:53:20.906750: I tensorflow/core/util/port.cc:110] oneDNN custom operations are on. You may see slightly different numerical results due to floating-point round-off errors from different computation orders. To turn them off, set the environment variable `TF_ENABLE_ONEDNN_OPTS=0`.\n",
      "2024-07-18 10:53:20.931681: I tensorflow/core/platform/cpu_feature_guard.cc:182] This TensorFlow binary is optimized to use available CPU instructions in performance-critical operations.\n",
      "To enable the following instructions: AVX2 AVX_VNNI FMA, in other operations, rebuild TensorFlow with the appropriate compiler flags.\n"
     ]
    },
    {
     "name": "stdout",
     "output_type": "stream",
     "text": [
      "INFO: Pandarallel will run on 16 workers.\n",
      "INFO: Pandarallel will use Memory file system to transfer data between the main process and workers.\n"
     ]
    }
   ],
   "source": [
    "import pandas as pd\n",
    "import os\n",
    "import re\n",
    "from tqdm import tqdm\n",
    "import importlib\n",
    "from matplotlib.pyplot import figure\n",
    "from ZHMolGraph.import_modules import *\n",
    "from ZHMolGraph import ZHMolGraph\n",
    "import pickle"
   ]
  },
  {
   "cell_type": "code",
   "execution_count": 2,
   "id": "d18a0c5c-a789-421b-a674-a643e1104be6",
   "metadata": {},
   "outputs": [
    {
     "data": {
      "text/plain": [
       "<module 'ZHMolGraph.ZHMolGraph' from '/home/quan/RNA_Protein_Network/MY-ZHMolRPGraph/Github_package/code/ZHMolGraph/ZHMolGraph.py'>"
      ]
     },
     "execution_count": 2,
     "metadata": {},
     "output_type": "execute_result"
    }
   ],
   "source": [
    "importlib.reload(ZHMolGraph)  "
   ]
  },
  {
   "cell_type": "markdown",
   "id": "a6b6ae48-4980-4091-b317-6e06ec1708f8",
   "metadata": {},
   "source": [
    "## 1.2.GPU Setting"
   ]
  },
  {
   "cell_type": "code",
   "execution_count": 3,
   "id": "19705d39-f898-4141-a660-b1ecd6763a0b",
   "metadata": {},
   "outputs": [
    {
     "data": {
      "text/plain": [
       "[\"b'Thu Jul 18 10:53:22 2024       \",\n",
       " '+---------------------------------------------------------------------------------------+',\n",
       " '| NVIDIA-SMI 535.161.07             Driver Version: 535.161.07   CUDA Version: 12.2     |',\n",
       " '|-----------------------------------------+----------------------+----------------------+',\n",
       " '| GPU  Name                 Persistence-M | Bus-Id        Disp.A | Volatile Uncorr. ECC |',\n",
       " '| Fan  Temp   Perf          Pwr:Usage/Cap |         Memory-Usage | GPU-Util  Compute M. |',\n",
       " '|                                         |                      |               MIG M. |',\n",
       " '|=========================================+======================+======================|',\n",
       " '|   0  NVIDIA GeForce RTX 3090        Off | 00000000:01:00.0 Off |                  N/A |',\n",
       " '| 31%   53C    P8              24W / 350W |  12857MiB / 24576MiB |      0%      Default |',\n",
       " '|                                         |                      |                  N/A |',\n",
       " '+-----------------------------------------+----------------------+----------------------+',\n",
       " '                                                                                         ',\n",
       " '+---------------------------------------------------------------------------------------+',\n",
       " '| Processes:                                                                            |',\n",
       " '|  GPU   GI   CI        PID   Type   Process name                            GPU Memory |',\n",
       " '|        ID   ID                                                             Usage      |',\n",
       " '|=======================================================================================|',\n",
       " '|    0   N/A  N/A     14041      G   /usr/lib/xorg/Xorg                            4MiB |',\n",
       " '|    0   N/A  N/A     14407      G   /usr/lib/xorg/Xorg                            4MiB |',\n",
       " '|    0   N/A  N/A     18098      C   .../ZHMolRPGraphPytorch-1.8/bin/python     2282MiB |',\n",
       " '|    0   N/A  N/A     18288      C   .../ZHMolRPGraphPytorch-1.8/bin/python     2004MiB |',\n",
       " '|    0   N/A  N/A     18412      C   .../ZHMolRPGraphPytorch-1.8/bin/python     2124MiB |',\n",
       " '|    0   N/A  N/A     21532      C   .../ZHMolRPGraphPytorch-1.8/bin/python     2282MiB |',\n",
       " '|    0   N/A  N/A     21650      C   .../ZHMolRPGraphPytorch-1.8/bin/python     2004MiB |',\n",
       " '|    0   N/A  N/A     23829      C   .../ZHMolRPGraphPytorch-1.8/bin/python     2124MiB |',\n",
       " '+---------------------------------------------------------------------------------------+',\n",
       " \"'\"]"
      ]
     },
     "execution_count": 3,
     "metadata": {},
     "output_type": "execute_result"
    }
   ],
   "source": [
    "str(subprocess.check_output('nvidia-smi', shell = True)).split('\\\\n')"
   ]
  },
  {
   "cell_type": "code",
   "execution_count": 4,
   "id": "9e120e80-b5da-4d1c-88a6-f6c0174155d6",
   "metadata": {},
   "outputs": [
    {
     "name": "stdout",
     "output_type": "stream",
     "text": [
      "[PhysicalDevice(name='/physical_device:GPU:0', device_type='GPU')]\n"
     ]
    },
    {
     "name": "stderr",
     "output_type": "stream",
     "text": [
      "2024-07-18 10:53:22.261703: I tensorflow/compiler/xla/stream_executor/cuda/cuda_gpu_executor.cc:995] successful NUMA node read from SysFS had negative value (-1), but there must be at least one NUMA node, so returning NUMA node zero. See more at https://github.com/torvalds/linux/blob/v6.0/Documentation/ABI/testing/sysfs-bus-pci#L344-L355\n",
      "2024-07-18 10:53:22.281236: I tensorflow/compiler/xla/stream_executor/cuda/cuda_gpu_executor.cc:995] successful NUMA node read from SysFS had negative value (-1), but there must be at least one NUMA node, so returning NUMA node zero. See more at https://github.com/torvalds/linux/blob/v6.0/Documentation/ABI/testing/sysfs-bus-pci#L344-L355\n",
      "2024-07-18 10:53:22.281411: I tensorflow/compiler/xla/stream_executor/cuda/cuda_gpu_executor.cc:995] successful NUMA node read from SysFS had negative value (-1), but there must be at least one NUMA node, so returning NUMA node zero. See more at https://github.com/torvalds/linux/blob/v6.0/Documentation/ABI/testing/sysfs-bus-pci#L344-L355\n"
     ]
    }
   ],
   "source": [
    "os.environ[\"CUDA_VISIBLE_DEVICES\"] = \"0\"\n",
    "print(tensorflow.config.list_physical_devices('GPU'))"
   ]
  },
  {
   "cell_type": "markdown",
   "id": "8fb518d4-ed4e-4d65-bbba-ffee8825172e",
   "metadata": {},
   "source": [
    "## 1.3.Define my vecnn structure"
   ]
  },
  {
   "cell_type": "code",
   "execution_count": 5,
   "id": "ed6f378a-2cf6-4723-b616-373618d21c8c",
   "metadata": {},
   "outputs": [],
   "source": [
    "Dataset=\"NPInter2\""
   ]
  },
  {
   "cell_type": "code",
   "execution_count": 6,
   "id": "40515bb0-3226-461f-b9ae-ed70df4d4a91",
   "metadata": {},
   "outputs": [],
   "source": [
    "# Read In rnas and proteins dataframes to pass to AIBind after changing column names \n",
    "with open('data/Mol2Vec/RPI_'+ Dataset +'_rnafm_embed_normal.pkl', 'rb') as file: \n",
    "    rnas = pkl.load(file)\n",
    "    \n",
    "with open('data/Mol2Vec/RPI_' + Dataset + '_proteinprottrans_embed_normal.pkl', 'rb') as file: \n",
    "    proteins = pkl.load(file)\n",
    "\n",
    "# print(rnas)\n",
    "# print(len(rnas))\n",
    "# print(proteins)\n",
    "# print(type(proteins))\n"
   ]
  },
  {
   "cell_type": "code",
   "execution_count": 7,
   "id": "32ef2cc0-03e9-40b9-8813-2986111f871c",
   "metadata": {},
   "outputs": [],
   "source": [
    "# create object\n",
    "vecnn_object = ZHMolGraph.ZHMolGraph(interactions_location = 'data/interactions/dataset_RPI_' + Dataset + '_RP.csv',\n",
    "                              interactions = None,\n",
    "                              interaction_y_name = 'Y',\n",
    "\n",
    "                              absolute_negatives_location = None,\n",
    "                              absolute_negatives = None,\n",
    "\n",
    "                              rnas_location = None,\n",
    "                              rnas_dataframe = rnas,\n",
    "                              rna_seq_name = 'RNA_aa_code',\n",
    "\n",
    "                              proteins_location = None,\n",
    "                              proteins_dataframe = proteins, \n",
    "                              protein_seq_name = 'target_aa_code',\n",
    "\n",
    "\n",
    "                              model_out_dir = f'trained_model/ZHMolGraph_VecNN_model_RPI_{Dataset}/',\n",
    "\n",
    "        \n",
    "\n",
    "                              debug = False)"
   ]
  },
  {
   "cell_type": "code",
   "execution_count": 8,
   "id": "b7faa12a-0910-40a1-bb78-386daee374f9",
   "metadata": {},
   "outputs": [],
   "source": [
    "os.makedirs(vecnn_object.model_out_dir, exist_ok=True)"
   ]
  },
  {
   "cell_type": "code",
   "execution_count": 9,
   "id": "5e6ce759-8ef9-4531-b3d0-974da908383c",
   "metadata": {},
   "outputs": [],
   "source": [
    "vecnn_object.rnas = rnas\n",
    "vecnn_object.proteins = proteins"
   ]
  },
  {
   "cell_type": "code",
   "execution_count": 10,
   "id": "10996988-5ce9-46a3-8453-4d02a1a06b68",
   "metadata": {},
   "outputs": [],
   "source": [
    "all_samples = pd.concat([vecnn_object.interactions])"
   ]
  },
  {
   "cell_type": "code",
   "execution_count": 11,
   "id": "4b13f0eb-f800-4570-8609-9981ffae2729",
   "metadata": {},
   "outputs": [],
   "source": [
    "Negative_samples = all_samples[all_samples['Y']==0]"
   ]
  },
  {
   "cell_type": "code",
   "execution_count": 12,
   "id": "8904c664-6952-4adf-9c1b-c6be9cdc7b7a",
   "metadata": {},
   "outputs": [],
   "source": [
    "vecnn_object.negatives = pd.concat([Negative_samples[vecnn_object.rna_seq_name], Negative_samples[vecnn_object.protein_seq_name], \n",
    "                                    Negative_samples[vecnn_object.interaction_y_name]],axis=1)\n",
    "vecnn_object.negatives = vecnn_object.negatives.reset_index(drop=True)\n"
   ]
  },
  {
   "cell_type": "markdown",
   "id": "29e35eba-5386-498e-bcb1-be7fc0df47df",
   "metadata": {},
   "source": [
    "## 1.4.Create train and test dataset"
   ]
  },
  {
   "cell_type": "code",
   "execution_count": 13,
   "id": "04b1d571-8ce3-4bc0-bb33-f00267b59dbc",
   "metadata": {},
   "outputs": [],
   "source": [
    "# 从文件加载变量\n",
    "train_sets_file = vecnn_object.model_out_dir + '/train_sets.pkl'\n",
    "with open(train_sets_file, 'rb') as f:\n",
    "    vecnn_object.train_sets = pickle.load(f)\n",
    "\n",
    "test_sets_file = vecnn_object.model_out_dir + '/test_sets.pkl'\n",
    "with open(test_sets_file, 'rb') as f:\n",
    "    vecnn_object.test_sets = pickle.load(f)"
   ]
  },
  {
   "cell_type": "markdown",
   "id": "a06a570b-0b5c-46f1-af0a-7f438758dfb9",
   "metadata": {},
   "source": [
    "## 1.5.Generate Mol2Vec and ProtVec Embeddings"
   ]
  },
  {
   "cell_type": "code",
   "execution_count": 14,
   "id": "9056d719-284b-44c6-a5d5-a33192057d4e",
   "metadata": {},
   "outputs": [],
   "source": [
    "# Read In rnas and proteins dataframes to pass to AIBind after changing column names \n",
    "with open('data/Mol2Vec/RPI_'+ Dataset +'_rnafm_embed_normal.pkl', 'rb') as file: \n",
    "    rnas = pkl.load(file)\n",
    "    \n",
    "with open('data/Mol2Vec/RPI_' + Dataset + '_proteinprottrans_embed_normal.pkl', 'rb') as file: \n",
    "    proteins = pkl.load(file)\n",
    "\n",
    "# print(rnas)\n",
    "# print(len(rnas))\n",
    "# print(proteins)\n",
    "# print(type(proteins))\n",
    "\n",
    "vecnn_object.rnas = rnas\n",
    "vecnn_object.proteins = proteins"
   ]
  },
  {
   "cell_type": "code",
   "execution_count": 15,
   "id": "332154b2-5103-476f-afaf-0c344b239107",
   "metadata": {},
   "outputs": [],
   "source": [
    "rna_vector_length = 640\n",
    "protein_vector_length = 1024"
   ]
  },
  {
   "cell_type": "code",
   "execution_count": 16,
   "id": "a109e9a5-1338-4baa-9483-075a4cfd749f",
   "metadata": {},
   "outputs": [
    {
     "data": {
      "application/vnd.jupyter.widget-view+json": {
       "model_id": "199a05afa3f048e193f1037f798e2bde",
       "version_major": 2,
       "version_minor": 0
      },
      "text/plain": [
       "  0%|          | 0/4580 [00:00<?, ?it/s]"
      ]
     },
     "metadata": {},
     "output_type": "display_data"
    }
   ],
   "source": [
    "rna_embeddings = rnas['normalized_embeddings']\n",
    "rna_array = np.zeros((len(rnas['normalized_embeddings']), rna_vector_length))\n",
    "# 使用 for 循环逐行赋值\n",
    "for i in tqdm(range(len(rnas['normalized_embeddings']))):\n",
    "    rna_array[i, :] = rna_embeddings.iloc[i]\n",
    "    \n",
    "vecnn_object.rna_embeddings = rna_array"
   ]
  },
  {
   "cell_type": "code",
   "execution_count": 17,
   "id": "c63fa469-25a5-4280-a52a-13a179dd81d8",
   "metadata": {
    "scrolled": true
   },
   "outputs": [
    {
     "data": {
      "application/vnd.jupyter.widget-view+json": {
       "model_id": "d800fdbd288f42e79d673d0f5111c1b2",
       "version_major": 2,
       "version_minor": 0
      },
      "text/plain": [
       "  0%|          | 0/439 [00:00<?, ?it/s]"
      ]
     },
     "metadata": {},
     "output_type": "display_data"
    }
   ],
   "source": [
    "\n",
    "protein_embeddings = proteins['normalized_embeddings']\n",
    "protein_array = np.zeros((len(proteins['normalized_embeddings']), protein_vector_length))\n",
    "# 使用 for 循环逐行赋值\n",
    "for i in tqdm(range(len(proteins['normalized_embeddings']))):\n",
    "    protein_array[i, :] = protein_embeddings.iloc[i]\n",
    "    \n",
    "vecnn_object.protein_embeddings = protein_array\n"
   ]
  },
  {
   "cell_type": "markdown",
   "id": "f64dd8c4-3cf0-4235-9359-bce3f08c4bfb",
   "metadata": {},
   "source": [
    "# 2. Get the benchmark validation results of ZHMolGraph"
   ]
  },
  {
   "cell_type": "code",
   "execution_count": 18,
   "id": "f3899751-19d3-428c-8c7b-cc8a893d64d3",
   "metadata": {
    "scrolled": true
   },
   "outputs": [
    {
     "name": "stderr",
     "output_type": "stream",
     "text": [
      "  0%|                                                   | 0/5 [00:00<?, ?it/s]"
     ]
    },
    {
     "name": "stdout",
     "output_type": "stream",
     "text": [
      "————————————————————————————————————————\n",
      "Run_0\n",
      "————————————————————————————————————————\n",
      "using device 0 NVIDIA GeForce RTX 3090\n",
      "DEVICE: cuda\n",
      "(4580, 100)\n",
      "(4580, 640)\n"
     ]
    },
    {
     "name": "stderr",
     "output_type": "stream",
     "text": [
      " 20%|████████▌                                  | 1/5 [00:05<00:21,  5.39s/it]"
     ]
    },
    {
     "name": "stdout",
     "output_type": "stream",
     "text": [
      "torch.Size([1666, 4488])\n",
      "torch.Size([1666, 2952])\n",
      "torch.Size([4164, 4488])\n",
      "torch.Size([4164, 2952])\n",
      "——————————————————————————————————————————————————\n",
      "Performance of Run_0\n",
      "——————————————————————————————————————————————————\n",
      "accuracy : 0.957\n",
      "sensitivity : 0.973\n",
      "specificity : 0.941\n",
      "precision : 0.945\n",
      "mcc : 0.915\n",
      "tn : 1926\n",
      "fp : 121\n",
      "fn : 57\n",
      "tp : 2060\n",
      "\n",
      "————————————————————————————————————————\n",
      "Run_1\n",
      "————————————————————————————————————————\n",
      "using device 0 NVIDIA GeForce RTX 3090\n",
      "DEVICE: cuda\n",
      "(4580, 100)\n",
      "(4580, 640)\n"
     ]
    },
    {
     "name": "stderr",
     "output_type": "stream",
     "text": [
      " 40%|█████████████████▏                         | 2/5 [00:08<00:12,  4.07s/it]"
     ]
    },
    {
     "name": "stdout",
     "output_type": "stream",
     "text": [
      "torch.Size([1666, 4488])\n",
      "torch.Size([1666, 2952])\n",
      "torch.Size([4164, 4488])\n",
      "torch.Size([4164, 2952])\n",
      "——————————————————————————————————————————————————\n",
      "Performance of Run_1\n",
      "——————————————————————————————————————————————————\n",
      "accuracy : 0.957\n",
      "sensitivity : 0.98\n",
      "specificity : 0.934\n",
      "precision : 0.934\n",
      "mcc : 0.915\n",
      "tn : 1990\n",
      "fp : 140\n",
      "fn : 40\n",
      "tp : 1994\n",
      "\n",
      "————————————————————————————————————————\n",
      "Run_2\n",
      "————————————————————————————————————————\n",
      "using device 0 NVIDIA GeForce RTX 3090\n",
      "DEVICE: cuda\n",
      "(4580, 100)\n",
      "(4580, 640)\n"
     ]
    },
    {
     "name": "stderr",
     "output_type": "stream",
     "text": [
      " 60%|█████████████████████████▊                 | 3/5 [00:11<00:07,  3.63s/it]"
     ]
    },
    {
     "name": "stdout",
     "output_type": "stream",
     "text": [
      "torch.Size([1666, 4488])\n",
      "torch.Size([1666, 2952])\n",
      "torch.Size([4164, 4488])\n",
      "torch.Size([4164, 2952])\n",
      "——————————————————————————————————————————————————\n",
      "Performance of Run_2\n",
      "——————————————————————————————————————————————————\n",
      "accuracy : 0.955\n",
      "sensitivity : 0.976\n",
      "specificity : 0.933\n",
      "precision : 0.938\n",
      "mcc : 0.91\n",
      "tn : 1918\n",
      "fp : 137\n",
      "fn : 51\n",
      "tp : 2058\n",
      "\n",
      "————————————————————————————————————————\n",
      "Run_3\n",
      "————————————————————————————————————————\n",
      "using device 0 NVIDIA GeForce RTX 3090\n",
      "DEVICE: cuda\n",
      "(4580, 100)\n",
      "(4580, 640)\n"
     ]
    },
    {
     "name": "stderr",
     "output_type": "stream",
     "text": [
      " 80%|██████████████████████████████████▍        | 4/5 [00:14<00:03,  3.42s/it]"
     ]
    },
    {
     "name": "stdout",
     "output_type": "stream",
     "text": [
      "torch.Size([1666, 4488])\n",
      "torch.Size([1666, 2952])\n",
      "torch.Size([4164, 4488])\n",
      "torch.Size([4164, 2952])\n",
      "——————————————————————————————————————————————————\n",
      "Performance of Run_3\n",
      "——————————————————————————————————————————————————\n",
      "accuracy : 0.95\n",
      "sensitivity : 0.965\n",
      "specificity : 0.935\n",
      "precision : 0.937\n",
      "mcc : 0.901\n",
      "tn : 1953\n",
      "fp : 135\n",
      "fn : 72\n",
      "tp : 2004\n",
      "\n",
      "————————————————————————————————————————\n",
      "Run_4\n",
      "————————————————————————————————————————\n",
      "using device 0 NVIDIA GeForce RTX 3090\n",
      "DEVICE: cuda\n",
      "(4580, 100)\n",
      "(4580, 640)\n"
     ]
    },
    {
     "name": "stderr",
     "output_type": "stream",
     "text": [
      "100%|███████████████████████████████████████████| 5/5 [00:17<00:00,  3.57s/it]"
     ]
    },
    {
     "name": "stdout",
     "output_type": "stream",
     "text": [
      "torch.Size([1666, 4488])\n",
      "torch.Size([1666, 2952])\n",
      "torch.Size([4168, 4488])\n",
      "torch.Size([4168, 2952])\n",
      "——————————————————————————————————————————————————\n",
      "Performance of Run_4\n",
      "——————————————————————————————————————————————————\n",
      "accuracy : 0.956\n",
      "sensitivity : 0.98\n",
      "specificity : 0.933\n",
      "precision : 0.936\n",
      "mcc : 0.914\n",
      "tn : 1952\n",
      "fp : 140\n",
      "fn : 42\n",
      "tp : 2034\n",
      "\n",
      "——————————————————————————————————————————————————\n",
      "Validation Performance of Dataset NPInter2: \n",
      "——————————————————————————————————————————————————\n",
      "Accuracy :  0.955 +/- 0.002536484778969642\n",
      "Sensitivity :  0.975 +/- 0.005462948928435651\n",
      "Specificity :  0.935 +/- 0.002865821174204263\n",
      "Precision :  0.938 +/- 0.0035346844072795787\n",
      "MCC :  0.911 +/- 0.005213818486901342\n",
      "写入result文件夹\n"
     ]
    },
    {
     "name": "stderr",
     "output_type": "stream",
     "text": [
      "\n"
     ]
    }
   ],
   "source": [
    "embedding_type = 'Pretrain'\n",
    "vecnn_object.get_benchmark_validation_ZHMolGraph_results(rna_embedding_length = rna_vector_length, \n",
    "                                                  protein_embedding_length = protein_vector_length, \n",
    "                                                  dataset = Dataset, \n",
    "                                                  embedding_type = embedding_type)"
   ]
  },
  {
   "cell_type": "code",
   "execution_count": null,
   "id": "ae69989f-0df4-4822-9a86-9b05b0ddf2bb",
   "metadata": {},
   "outputs": [],
   "source": []
  },
  {
   "cell_type": "code",
   "execution_count": null,
   "id": "a0490341-1eff-46a4-940a-aed636ec8ee1",
   "metadata": {},
   "outputs": [],
   "source": []
  },
  {
   "cell_type": "code",
   "execution_count": null,
   "id": "5d1cf499-c45e-4639-97ce-782bb36b55ef",
   "metadata": {},
   "outputs": [],
   "source": []
  }
 ],
 "metadata": {
  "kernelspec": {
   "display_name": "Python 3 (ipykernel)",
   "language": "python",
   "name": "python3"
  },
  "language_info": {
   "codemirror_mode": {
    "name": "ipython",
    "version": 3
   },
   "file_extension": ".py",
   "mimetype": "text/x-python",
   "name": "python",
   "nbconvert_exporter": "python",
   "pygments_lexer": "ipython3",
   "version": "3.8.18"
  }
 },
 "nbformat": 4,
 "nbformat_minor": 5
}
