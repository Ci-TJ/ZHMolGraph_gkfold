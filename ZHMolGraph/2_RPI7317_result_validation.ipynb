{
 "cells": [
  {
   "cell_type": "markdown",
   "id": "f3cd4dac-2fe7-490f-8c0a-e1ec89e9c7d2",
   "metadata": {},
   "source": [
    "# 1.Environment and data preparation"
   ]
  },
  {
   "cell_type": "markdown",
   "id": "e3758aa8-7049-46b8-8b61-f8ff328c2717",
   "metadata": {},
   "source": [
    "## 1.1.Import"
   ]
  },
  {
   "cell_type": "code",
   "execution_count": 1,
   "id": "f4478f40-9a88-43b8-badd-2e9ad3a8d42a",
   "metadata": {
    "scrolled": true
   },
   "outputs": [
    {
     "name": "stderr",
     "output_type": "stream",
     "text": [
      "2024-12-17 16:23:04.872612: I tensorflow/core/util/port.cc:110] oneDNN custom operations are on. You may see slightly different numerical results due to floating-point round-off errors from different computation orders. To turn them off, set the environment variable `TF_ENABLE_ONEDNN_OPTS=0`.\n",
      "2024-12-17 16:23:04.899882: I tensorflow/core/platform/cpu_feature_guard.cc:182] This TensorFlow binary is optimized to use available CPU instructions in performance-critical operations.\n",
      "To enable the following instructions: AVX2 AVX_VNNI FMA, in other operations, rebuild TensorFlow with the appropriate compiler flags.\n"
     ]
    },
    {
     "name": "stdout",
     "output_type": "stream",
     "text": [
      "INFO: Pandarallel will run on 16 workers.\n",
      "INFO: Pandarallel will use Memory file system to transfer data between the main process and workers.\n"
     ]
    }
   ],
   "source": [
    "import pandas as pd\n",
    "import os\n",
    "import re\n",
    "from tqdm import tqdm\n",
    "import importlib\n",
    "from matplotlib.pyplot import figure\n",
    "from ZHMolGraph.import_modules import *\n",
    "from ZHMolGraph import ZHMolGraph\n",
    "import pickle"
   ]
  },
  {
   "cell_type": "code",
   "execution_count": 2,
   "id": "d18a0c5c-a789-421b-a674-a643e1104be6",
   "metadata": {},
   "outputs": [
    {
     "data": {
      "text/plain": [
       "<module 'ZHMolGraph.ZHMolGraph' from '/home/quan/RNA_Protein_Network/MY-ZHMolRPGraph/ZHMolGraph-main-20241217/ZHMolGraph/ZHMolGraph.py'>"
      ]
     },
     "execution_count": 2,
     "metadata": {},
     "output_type": "execute_result"
    }
   ],
   "source": [
    "importlib.reload(ZHMolGraph)  "
   ]
  },
  {
   "cell_type": "markdown",
   "id": "a6b6ae48-4980-4091-b317-6e06ec1708f8",
   "metadata": {},
   "source": [
    "## 1.2.GPU Setting"
   ]
  },
  {
   "cell_type": "code",
   "execution_count": 3,
   "id": "19705d39-f898-4141-a660-b1ecd6763a0b",
   "metadata": {},
   "outputs": [
    {
     "data": {
      "text/plain": [
       "[\"b'Tue Dec 17 16:23:06 2024       \",\n",
       " '+---------------------------------------------------------------------------------------+',\n",
       " '| NVIDIA-SMI 535.161.07             Driver Version: 535.161.07   CUDA Version: 12.2     |',\n",
       " '|-----------------------------------------+----------------------+----------------------+',\n",
       " '| GPU  Name                 Persistence-M | Bus-Id        Disp.A | Volatile Uncorr. ECC |',\n",
       " '| Fan  Temp   Perf          Pwr:Usage/Cap |         Memory-Usage | GPU-Util  Compute M. |',\n",
       " '|                                         |                      |               MIG M. |',\n",
       " '|=========================================+======================+======================|',\n",
       " '|   0  NVIDIA GeForce RTX 3090        Off | 00000000:01:00.0  On |                  N/A |',\n",
       " '| 31%   49C    P2             111W / 350W |   4893MiB / 24576MiB |     15%      Default |',\n",
       " '|                                         |                      |                  N/A |',\n",
       " '+-----------------------------------------+----------------------+----------------------+',\n",
       " '                                                                                         ',\n",
       " '+---------------------------------------------------------------------------------------+',\n",
       " '| Processes:                                                                            |',\n",
       " '|  GPU   GI   CI        PID   Type   Process name                            GPU Memory |',\n",
       " '|        ID   ID                                                             Usage      |',\n",
       " '|=======================================================================================|',\n",
       " '|    0   N/A  N/A      1369      G   /usr/lib/xorg/Xorg                           42MiB |',\n",
       " '|    0   N/A  N/A      3519      G   /usr/lib/xorg/Xorg                           91MiB |',\n",
       " '|    0   N/A  N/A     57916      C   ...vs/ZHMolGraphPytorch-1.8/bin/python     2328MiB |',\n",
       " '|    0   N/A  N/A     76673      C   ...vs/ZHMolGraphPytorch-1.8/bin/python     1400MiB |',\n",
       " '|    0   N/A  N/A    158516      C   ...vs/ZHMolGraphPytorch-1.8/bin/python     1012MiB |',\n",
       " '+---------------------------------------------------------------------------------------+',\n",
       " \"'\"]"
      ]
     },
     "execution_count": 3,
     "metadata": {},
     "output_type": "execute_result"
    }
   ],
   "source": [
    "str(subprocess.check_output('nvidia-smi', shell = True)).split('\\\\n')"
   ]
  },
  {
   "cell_type": "code",
   "execution_count": 4,
   "id": "9e120e80-b5da-4d1c-88a6-f6c0174155d6",
   "metadata": {},
   "outputs": [
    {
     "name": "stdout",
     "output_type": "stream",
     "text": [
      "[PhysicalDevice(name='/physical_device:GPU:0', device_type='GPU')]\n"
     ]
    },
    {
     "name": "stderr",
     "output_type": "stream",
     "text": [
      "2024-12-17 16:23:06.574072: I tensorflow/compiler/xla/stream_executor/cuda/cuda_gpu_executor.cc:995] successful NUMA node read from SysFS had negative value (-1), but there must be at least one NUMA node, so returning NUMA node zero. See more at https://github.com/torvalds/linux/blob/v6.0/Documentation/ABI/testing/sysfs-bus-pci#L344-L355\n",
      "2024-12-17 16:23:06.577394: I tensorflow/compiler/xla/stream_executor/cuda/cuda_gpu_executor.cc:995] successful NUMA node read from SysFS had negative value (-1), but there must be at least one NUMA node, so returning NUMA node zero. See more at https://github.com/torvalds/linux/blob/v6.0/Documentation/ABI/testing/sysfs-bus-pci#L344-L355\n",
      "2024-12-17 16:23:06.577482: I tensorflow/compiler/xla/stream_executor/cuda/cuda_gpu_executor.cc:995] successful NUMA node read from SysFS had negative value (-1), but there must be at least one NUMA node, so returning NUMA node zero. See more at https://github.com/torvalds/linux/blob/v6.0/Documentation/ABI/testing/sysfs-bus-pci#L344-L355\n"
     ]
    }
   ],
   "source": [
    "os.environ[\"CUDA_VISIBLE_DEVICES\"] = \"0\"\n",
    "print(tensorflow.config.list_physical_devices('GPU'))"
   ]
  },
  {
   "cell_type": "markdown",
   "id": "8fb518d4-ed4e-4d65-bbba-ffee8825172e",
   "metadata": {},
   "source": [
    "## 1.3.Define my vecnn structure"
   ]
  },
  {
   "cell_type": "code",
   "execution_count": 5,
   "id": "ed6f378a-2cf6-4723-b616-373618d21c8c",
   "metadata": {},
   "outputs": [],
   "source": [
    "Dataset=\"RPI7317\""
   ]
  },
  {
   "cell_type": "code",
   "execution_count": 6,
   "id": "40515bb0-3226-461f-b9ae-ed70df4d4a91",
   "metadata": {},
   "outputs": [
    {
     "name": "stdout",
     "output_type": "stream",
     "text": [
      "                                            RNA_aa_code  \\\n",
      "0     TGGCCCAGCCGGAGCAGCTCCATCCTGGAGGAGGCCTGCCGGCAGT...   \n",
      "1     CACGCTCCCACCGGTGAGTGCATGTAGTCATCTGGGCACCTACCGT...   \n",
      "2     TCCAGGTGTTTCTGATGCCTGTTCAAGTTTGAGAATCAATGGACTA...   \n",
      "3     CTGTGTGGAACTTGGGATTCGAACGGCAGGCGGGAAGTGCTCTAGC...   \n",
      "4     ATCATAAGAAACTACCTCGCTATTTTCTGCCACCTTAAAAGTTAGT...   \n",
      "...                                                 ...   \n",
      "1866  AGCCACTGGTGTCCCATTATATATAATTTTTCTTATCTTAATTATA...   \n",
      "1867  AAAGGCAACAGCAAATCACAAACATCCATAATTATACATCAGGGAC...   \n",
      "1868  AGATGCAGACATGGCTGGATGTTCTTTGCTGGGCTGCTGAGTCAGA...   \n",
      "1869  AGAATTTCAGGAAGACACTGATAAGAACTTGTTTCTCTTGTCCCTG...   \n",
      "1870  TCAGCGGTGGACTCTCGCCTGTCTTCTCTGTGGGATCACGGCATAG...   \n",
      "\n",
      "                                  normalized_embeddings  \n",
      "0     [0.0168792466561923, -0.00030594345867753376, ...  \n",
      "1     [-0.02308067881351808, -0.0010626056045894465,...  \n",
      "2     [0.0034037078980044817, 0.03945506185190299, 0...  \n",
      "3     [-0.017011154583544668, 0.046793081852996646, ...  \n",
      "4     [0.015041959787632873, 0.04994113201254961, 0....  \n",
      "...                                                 ...  \n",
      "1866  [-0.01509157504794158, -0.035239518180193115, ...  \n",
      "1867  [0.010136239046241304, 0.009340430459329484, 0...  \n",
      "1868  [-0.010577714964268604, 0.007925433004951906, ...  \n",
      "1869  [-0.03466543926399137, 0.026245750601234238, -...  \n",
      "1870  [0.004604474368882817, 0.004636945213053267, 0...  \n",
      "\n",
      "[1871 rows x 2 columns]\n",
      "1871\n",
      "                                        target_aa_code  \\\n",
      "0    MASTDYSTYSQAAAQQGYSAYTAQPTQGYAQTTQAYGQQSYGTYGQ...   \n",
      "1    MGSGPIDPKELLKGLDSFLNRDGEVKSVDGISKIFSLMKEARKMVS...   \n",
      "2    MKAVKSERERGSRRRHRDGDVVLPAGVVVKQERLSPEVAPPAHRRP...   \n",
      "3    MELSAIGEQVFAVESIRKKRVRKGKVEYLVKWKGWPPKYSTWEPEE...   \n",
      "4    MAPQKHGGGGGGGSGPSAGSGGGGFGGSAAVAAATASGGKSGGGSC...   \n",
      "..                                                 ...   \n",
      "113  MWGDSRPANRTGPFRGSQEERFAPGWNRDYPPPPLKSHAQERHSGN...   \n",
      "114  MEYERRGGRGDRTGRYGATDRSQDDGGENRSRDHDYRDMDYRSYPR...   \n",
      "115  MEKTLETVPLERKKREKEQFRKLFIGGLSFETTEESLRNYYEQWGK...   \n",
      "116  MSVEAYGPSSQTLTFLDTEEAELLGADTQGSEFEFTDFTLPSQTQT...   \n",
      "117  MSDTWSSIQAHKKQLDSLRERLQRRRKQDSGHLDLRNPEAALSPTF...   \n",
      "\n",
      "                                 normalized_embeddings  \n",
      "0    [-0.029333676858096694, 0.08533835951901135, 0...  \n",
      "1    [0.017473163994732713, -0.012413401159688479, ...  \n",
      "2    [-0.02529618989059672, -0.030164931549282875, ...  \n",
      "3    [-0.05531600017166636, -0.024042625957138318, ...  \n",
      "4    [-0.013359271899727245, 0.035350049941913514, ...  \n",
      "..                                                 ...  \n",
      "113  [-0.027547675661676947, -0.03155349570420226, ...  \n",
      "114  [0.002372528809984413, 0.0036339823125048584, ...  \n",
      "115  [-0.009446045644954435, 0.06627716066511799, -...  \n",
      "116  [0.017599397099725387, 0.05718837710564565, -0...  \n",
      "117  [-0.03173802302975398, -0.022732957492839354, ...  \n",
      "\n",
      "[118 rows x 2 columns]\n",
      "<class 'pandas.core.frame.DataFrame'>\n"
     ]
    }
   ],
   "source": [
    "# Read In rnas and proteins dataframes to pass to AIBind after changing column names \n",
    "with open('data/Mol2Vec/RPI_'+ Dataset +'_rnafm_embed_normal.pkl', 'rb') as file: \n",
    "    rnas = pkl.load(file)\n",
    "    \n",
    "with open('data/Mol2Vec/RPI_' + Dataset + '_proteinprottrans_embed_normal.pkl', 'rb') as file: \n",
    "    proteins = pkl.load(file)\n",
    "\n",
    "print(rnas)\n",
    "print(len(rnas))\n",
    "print(proteins)\n",
    "print(type(proteins))\n"
   ]
  },
  {
   "cell_type": "code",
   "execution_count": 7,
   "id": "32ef2cc0-03e9-40b9-8813-2986111f871c",
   "metadata": {},
   "outputs": [],
   "source": [
    "# create object\n",
    "vecnn_object = ZHMolGraph.ZHMolGraph(interactions_location = 'data/interactions/dataset_RPI_' + Dataset + '_RP.csv',\n",
    "                              interactions = None,\n",
    "                              interaction_y_name = 'Y',\n",
    "\n",
    "                              absolute_negatives_location = None,\n",
    "                              absolute_negatives = None,\n",
    "\n",
    "                              rnas_location = None,\n",
    "                              rnas_dataframe = rnas,\n",
    "                              rna_seq_name = 'RNA_aa_code',\n",
    "\n",
    "                              proteins_location = None,\n",
    "                              proteins_dataframe = proteins, \n",
    "                              protein_seq_name = 'target_aa_code',\n",
    "\n",
    "\n",
    "                              model_out_dir = f'trained_model/ZHMolGraph_VecNN_model_RPI_{Dataset}/',\n",
    "\n",
    "        \n",
    "\n",
    "                              debug = False)"
   ]
  },
  {
   "cell_type": "code",
   "execution_count": 8,
   "id": "b7faa12a-0910-40a1-bb78-386daee374f9",
   "metadata": {},
   "outputs": [],
   "source": [
    "os.makedirs(vecnn_object.model_out_dir, exist_ok=True)"
   ]
  },
  {
   "cell_type": "code",
   "execution_count": 9,
   "id": "5e6ce759-8ef9-4531-b3d0-974da908383c",
   "metadata": {},
   "outputs": [],
   "source": [
    "vecnn_object.rnas = rnas\n",
    "vecnn_object.proteins = proteins"
   ]
  },
  {
   "cell_type": "code",
   "execution_count": 10,
   "id": "10996988-5ce9-46a3-8453-4d02a1a06b68",
   "metadata": {},
   "outputs": [],
   "source": [
    "all_samples = pd.concat([vecnn_object.interactions])"
   ]
  },
  {
   "cell_type": "code",
   "execution_count": 11,
   "id": "4b13f0eb-f800-4570-8609-9981ffae2729",
   "metadata": {},
   "outputs": [],
   "source": [
    "Negative_samples = all_samples[all_samples['Y']==0]"
   ]
  },
  {
   "cell_type": "code",
   "execution_count": 12,
   "id": "8904c664-6952-4adf-9c1b-c6be9cdc7b7a",
   "metadata": {},
   "outputs": [],
   "source": [
    "vecnn_object.negatives = pd.concat([Negative_samples[vecnn_object.rna_seq_name], Negative_samples[vecnn_object.protein_seq_name], \n",
    "                                    Negative_samples[vecnn_object.interaction_y_name]],axis=1)\n",
    "vecnn_object.negatives = vecnn_object.negatives.reset_index(drop=True)\n",
    "\n",
    "# print(vecnn_object.negatives)"
   ]
  },
  {
   "cell_type": "markdown",
   "id": "29e35eba-5386-498e-bcb1-be7fc0df47df",
   "metadata": {},
   "source": [
    "## 1.4.Create train and test dataset"
   ]
  },
  {
   "cell_type": "code",
   "execution_count": 13,
   "id": "04b1d571-8ce3-4bc0-bb33-f00267b59dbc",
   "metadata": {},
   "outputs": [],
   "source": [
    "# 从文件加载变量\n",
    "train_sets_file = vecnn_object.model_out_dir + '/train_sets.pkl'\n",
    "with open(train_sets_file, 'rb') as f:\n",
    "    vecnn_object.train_sets = pickle.load(f)\n",
    "\n",
    "test_sets_file = vecnn_object.model_out_dir + '/test_sets.pkl'\n",
    "with open(test_sets_file, 'rb') as f:\n",
    "    vecnn_object.test_sets = pickle.load(f)"
   ]
  },
  {
   "cell_type": "markdown",
   "id": "a06a570b-0b5c-46f1-af0a-7f438758dfb9",
   "metadata": {},
   "source": [
    "## 1.5.Generate Mol2Vec and ProtVec Embeddings"
   ]
  },
  {
   "cell_type": "code",
   "execution_count": 14,
   "id": "9056d719-284b-44c6-a5d5-a33192057d4e",
   "metadata": {},
   "outputs": [],
   "source": [
    "# Read In rnas and proteins dataframes to pass to AIBind after changing column names \n",
    "with open('data/Mol2Vec/RPI_'+ Dataset +'_rnafm_embed_normal.pkl', 'rb') as file: \n",
    "    rnas = pkl.load(file)\n",
    "    \n",
    "with open('data/Mol2Vec/RPI_' + Dataset + '_proteinprottrans_embed_normal.pkl', 'rb') as file: \n",
    "    proteins = pkl.load(file)\n",
    "\n",
    "# print(rnas)\n",
    "# print(len(rnas))\n",
    "# print(proteins)\n",
    "# print(type(proteins))\n",
    "\n",
    "vecnn_object.rnas = rnas\n",
    "vecnn_object.proteins = proteins"
   ]
  },
  {
   "cell_type": "code",
   "execution_count": 15,
   "id": "332154b2-5103-476f-afaf-0c344b239107",
   "metadata": {},
   "outputs": [],
   "source": [
    "rna_vector_length = 640\n",
    "protein_vector_length = 1024"
   ]
  },
  {
   "cell_type": "code",
   "execution_count": 16,
   "id": "a109e9a5-1338-4baa-9483-075a4cfd749f",
   "metadata": {},
   "outputs": [
    {
     "data": {
      "application/vnd.jupyter.widget-view+json": {
       "model_id": "9e634c277af94151ad12f75ae8b850a5",
       "version_major": 2,
       "version_minor": 0
      },
      "text/plain": [
       "  0%|          | 0/1871 [00:00<?, ?it/s]"
      ]
     },
     "metadata": {},
     "output_type": "display_data"
    }
   ],
   "source": [
    "rna_embeddings = rnas['normalized_embeddings']\n",
    "rna_array = np.zeros((len(rnas['normalized_embeddings']), rna_vector_length))\n",
    "# 使用 for 循环逐行赋值\n",
    "for i in tqdm(range(len(rnas['normalized_embeddings']))):\n",
    "    rna_array[i, :] = rna_embeddings.iloc[i]\n",
    "    \n",
    "vecnn_object.rna_embeddings = rna_array"
   ]
  },
  {
   "cell_type": "code",
   "execution_count": 17,
   "id": "c63fa469-25a5-4280-a52a-13a179dd81d8",
   "metadata": {
    "scrolled": true
   },
   "outputs": [
    {
     "data": {
      "application/vnd.jupyter.widget-view+json": {
       "model_id": "bc9529919a4d4d8a9bbcdce73f0cfbb5",
       "version_major": 2,
       "version_minor": 0
      },
      "text/plain": [
       "  0%|          | 0/118 [00:00<?, ?it/s]"
      ]
     },
     "metadata": {},
     "output_type": "display_data"
    }
   ],
   "source": [
    "\n",
    "protein_embeddings = proteins['normalized_embeddings']\n",
    "protein_array = np.zeros((len(proteins['normalized_embeddings']), protein_vector_length))\n",
    "# 使用 for 循环逐行赋值\n",
    "for i in tqdm(range(len(proteins['normalized_embeddings']))):\n",
    "    protein_array[i, :] = protein_embeddings.iloc[i]\n",
    "    \n",
    "vecnn_object.protein_embeddings = protein_array\n"
   ]
  },
  {
   "cell_type": "markdown",
   "id": "f64dd8c4-3cf0-4235-9359-bce3f08c4bfb",
   "metadata": {},
   "source": [
    "# 2. Get the benchmark validation results of ZHMolGraph"
   ]
  },
  {
   "cell_type": "code",
   "execution_count": null,
   "id": "f3899751-19d3-428c-8c7b-cc8a893d64d3",
   "metadata": {
    "scrolled": true
   },
   "outputs": [
    {
     "name": "stderr",
     "output_type": "stream",
     "text": [
      "  0%|                                                   | 0/5 [00:00<?, ?it/s]"
     ]
    },
    {
     "name": "stdout",
     "output_type": "stream",
     "text": [
      "————————————————————————————————————————\n",
      "Run_0\n",
      "————————————————————————————————————————\n",
      "using device 0 NVIDIA GeForce RTX 3090\n",
      "DEVICE: cuda\n",
      "(1871, 100)\n",
      "(1871, 640)\n",
      "torch.Size([1171, 4488])\n",
      "torch.Size([1171, 2952])\n"
     ]
    },
    {
     "name": "stderr",
     "output_type": "stream",
     "text": [
      " 20%|████████▌                                  | 1/5 [00:09<00:36,  9.05s/it]"
     ]
    },
    {
     "name": "stdout",
     "output_type": "stream",
     "text": [
      "torch.Size([2926, 4488])\n",
      "torch.Size([2926, 2952])\n",
      "——————————————————————————————————————————————————\n",
      "Performance of Run_0\n",
      "——————————————————————————————————————————————————\n",
      "accuracy : 0.911\n",
      "sensitivity : 0.924\n",
      "specificity : 0.898\n",
      "precision : 0.902\n",
      "mcc : 0.822\n",
      "tn : 1306\n",
      "fp : 148\n",
      "fn : 112\n",
      "tp : 1360\n",
      "\n",
      "————————————————————————————————————————\n",
      "Run_1\n",
      "————————————————————————————————————————\n",
      "using device 0 NVIDIA GeForce RTX 3090\n",
      "DEVICE: cuda\n",
      "(1871, 100)\n",
      "(1871, 640)\n",
      "torch.Size([1171, 4488])\n",
      "torch.Size([1171, 2952])\n"
     ]
    },
    {
     "name": "stderr",
     "output_type": "stream",
     "text": [
      " 40%|█████████████████▏                         | 2/5 [00:16<00:23,  7.85s/it]"
     ]
    },
    {
     "name": "stdout",
     "output_type": "stream",
     "text": [
      "torch.Size([2926, 4488])\n",
      "torch.Size([2926, 2952])\n",
      "——————————————————————————————————————————————————\n",
      "Performance of Run_1\n",
      "——————————————————————————————————————————————————\n",
      "accuracy : 0.916\n",
      "sensitivity : 0.926\n",
      "specificity : 0.906\n",
      "precision : 0.909\n",
      "mcc : 0.832\n",
      "tn : 1315\n",
      "fp : 137\n",
      "fn : 109\n",
      "tp : 1365\n",
      "\n",
      "————————————————————————————————————————\n",
      "Run_2\n",
      "————————————————————————————————————————\n",
      "using device 0 NVIDIA GeForce RTX 3090\n",
      "DEVICE: cuda\n",
      "(1871, 100)\n",
      "(1871, 640)\n",
      "torch.Size([1171, 4488])\n",
      "torch.Size([1171, 2952])\n"
     ]
    },
    {
     "name": "stderr",
     "output_type": "stream",
     "text": [
      " 60%|█████████████████████████▊                 | 3/5 [00:22<00:14,  7.41s/it]"
     ]
    },
    {
     "name": "stdout",
     "output_type": "stream",
     "text": [
      "torch.Size([2926, 4488])\n",
      "torch.Size([2926, 2952])\n",
      "——————————————————————————————————————————————————\n",
      "Performance of Run_2\n",
      "——————————————————————————————————————————————————\n",
      "accuracy : 0.913\n",
      "sensitivity : 0.919\n",
      "specificity : 0.906\n",
      "precision : 0.905\n",
      "mcc : 0.825\n",
      "tn : 1343\n",
      "fp : 139\n",
      "fn : 117\n",
      "tp : 1327\n",
      "\n",
      "————————————————————————————————————————\n",
      "Run_3\n",
      "————————————————————————————————————————\n",
      "using device 0 NVIDIA GeForce RTX 3090\n",
      "DEVICE: cuda\n",
      "(1871, 100)\n",
      "(1871, 640)\n",
      "torch.Size([1171, 4488])\n",
      "torch.Size([1171, 2952])\n"
     ]
    },
    {
     "name": "stderr",
     "output_type": "stream",
     "text": [
      " 80%|██████████████████████████████████▍        | 4/5 [00:29<00:07,  7.15s/it]"
     ]
    },
    {
     "name": "stdout",
     "output_type": "stream",
     "text": [
      "torch.Size([2926, 4488])\n",
      "torch.Size([2926, 2952])\n",
      "——————————————————————————————————————————————————\n",
      "Performance of Run_3\n",
      "——————————————————————————————————————————————————\n",
      "accuracy : 0.915\n",
      "sensitivity : 0.924\n",
      "specificity : 0.906\n",
      "precision : 0.907\n",
      "mcc : 0.83\n",
      "tn : 1325\n",
      "fp : 138\n",
      "fn : 111\n",
      "tp : 1352\n",
      "\n",
      "————————————————————————————————————————\n",
      "Run_4\n",
      "————————————————————————————————————————\n",
      "using device 0 NVIDIA GeForce RTX 3090\n",
      "DEVICE: cuda\n"
     ]
    }
   ],
   "source": [
    "embedding_type = 'Pretrain'\n",
    "vecnn_object.get_benchmark_validation_ZHMolGraph_results(rna_embedding_length = rna_vector_length, \n",
    "                                                  protein_embedding_length = protein_vector_length, \n",
    "                                                  dataset = Dataset, \n",
    "                                                  embedding_type = embedding_type)"
   ]
  },
  {
   "cell_type": "code",
   "execution_count": null,
   "id": "ae69989f-0df4-4822-9a86-9b05b0ddf2bb",
   "metadata": {},
   "outputs": [],
   "source": []
  },
  {
   "cell_type": "code",
   "execution_count": null,
   "id": "ba8ee193-9faf-4b2b-99b3-658ec4f4b975",
   "metadata": {},
   "outputs": [],
   "source": []
  }
 ],
 "metadata": {
  "kernelspec": {
   "display_name": "Python 3 (ipykernel)",
   "language": "python",
   "name": "python3"
  },
  "language_info": {
   "codemirror_mode": {
    "name": "ipython",
    "version": 3
   },
   "file_extension": ".py",
   "mimetype": "text/x-python",
   "name": "python",
   "nbconvert_exporter": "python",
   "pygments_lexer": "ipython3",
   "version": "3.8.18"
  }
 },
 "nbformat": 4,
 "nbformat_minor": 5
}
