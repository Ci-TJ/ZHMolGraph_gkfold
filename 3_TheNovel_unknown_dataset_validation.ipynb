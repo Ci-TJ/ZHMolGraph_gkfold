{
 "cells": [
  {
   "cell_type": "markdown",
   "id": "89935aac-cc66-47c0-89ce-60165c9c2687",
   "metadata": {
    "jp-MarkdownHeadingCollapsed": true
   },
   "source": [
    "# Test the TheNovel dataset"
   ]
  },
  {
   "cell_type": "markdown",
   "id": "33c4fa61-a4c6-4d1f-b10f-3a268346abb9",
   "metadata": {},
   "source": [
    "# 1 import"
   ]
  },
  {
   "cell_type": "code",
   "execution_count": 1,
   "id": "b80de63b-53f1-46d7-937c-0889412e1246",
   "metadata": {},
   "outputs": [
    {
     "name": "stderr",
     "output_type": "stream",
     "text": [
      "2024-07-18 10:53:32.067812: I tensorflow/core/util/port.cc:110] oneDNN custom operations are on. You may see slightly different numerical results due to floating-point round-off errors from different computation orders. To turn them off, set the environment variable `TF_ENABLE_ONEDNN_OPTS=0`.\n",
      "2024-07-18 10:53:32.091688: I tensorflow/core/platform/cpu_feature_guard.cc:182] This TensorFlow binary is optimized to use available CPU instructions in performance-critical operations.\n",
      "To enable the following instructions: AVX2 AVX_VNNI FMA, in other operations, rebuild TensorFlow with the appropriate compiler flags.\n"
     ]
    },
    {
     "name": "stdout",
     "output_type": "stream",
     "text": [
      "INFO: Pandarallel will run on 16 workers.\n",
      "INFO: Pandarallel will use Memory file system to transfer data between the main process and workers.\n"
     ]
    }
   ],
   "source": [
    "import pandas as pd\n",
    "import os\n",
    "import re\n",
    "from tqdm import tqdm\n",
    "import importlib\n",
    "from matplotlib.pyplot import figure\n",
    "from ZHMolGraph.import_modules import *\n",
    "from ZHMolGraph import ZHMolGraph"
   ]
  },
  {
   "cell_type": "code",
   "execution_count": 2,
   "id": "b57b1daf-0bde-424a-a849-3fbd64cd6b68",
   "metadata": {},
   "outputs": [],
   "source": [
    "### 导入测试集名字\n",
    "model_Dataset = 'NPInter2'\n",
    "unseen_Dataset = 'NPInter5'"
   ]
  },
  {
   "cell_type": "markdown",
   "id": "a8bf57f0-a60a-433a-b664-4f38cbb91e87",
   "metadata": {},
   "source": [
    "# 2 define object"
   ]
  },
  {
   "cell_type": "code",
   "execution_count": 3,
   "id": "85158006-6b3b-4658-88fd-89f08f3edf82",
   "metadata": {},
   "outputs": [],
   "source": [
    "### 导入测试集预训练的嵌入 ###\n",
    "with open('data/Mol2Vec/RPI_'+ unseen_Dataset +'_rnafm_embed_normal.pkl', 'rb') as file: \n",
    "    test_rnas = pkl.load(file)\n",
    "    \n",
    "with open('data/Mol2Vec/RPI_' + unseen_Dataset + '_proteinprottrans_embed_normal.pkl', 'rb') as file: \n",
    "    test_proteins = pkl.load(file)\n",
    "\n",
    "# print(test_rnas)\n",
    "# print(len(test_rnas))\n",
    "# print(test_proteins)\n",
    "# print(type(test_proteins))"
   ]
  },
  {
   "cell_type": "code",
   "execution_count": 4,
   "id": "b90708bd-307d-43c4-b7d5-48336f7ebfbb",
   "metadata": {},
   "outputs": [],
   "source": [
    "# create object\n",
    "vecnet_object = ZHMolGraph.ZHMolGraph(interactions_location = 'data/interactions/dataset_RPI_' + model_Dataset + '_RP.csv',\n",
    "                                  interactions = None,\n",
    "                                  interaction_y_name = 'Y',\n",
    "    \n",
    "                                  absolute_negatives_location = None,\n",
    "                                  absolute_negatives = None,\n",
    "    \n",
    "                                  rnas_location = None,\n",
    "                                  rnas_dataframe = test_rnas,\n",
    "                                  rna_seq_name = 'RNA_aa_code',\n",
    "    \n",
    "                                  proteins_location = None,\n",
    "                                  proteins_dataframe = test_proteins, \n",
    "                                  protein_seq_name = 'target_aa_code',\n",
    "\n",
    "    \n",
    "                                  model_out_dir = f'trained_model/ZHMolGraph_VecNN_model_RPI_{model_Dataset}/',\n",
    "    \n",
    "            \n",
    "                                  debug = False)"
   ]
  },
  {
   "cell_type": "markdown",
   "id": "adee450f-b4a8-4aaa-b524-48f72a2af041",
   "metadata": {},
   "source": [
    "# 3 Load dataset"
   ]
  },
  {
   "cell_type": "code",
   "execution_count": 5,
   "id": "bd39ffcb-7b61-48e4-8528-17455efe0a28",
   "metadata": {},
   "outputs": [],
   "source": [
    "# ### 导入测试集 ###\n",
    "dataset_path = 'data/interactions/' + unseen_Dataset + '_interactions_seqpairs.csv'\n",
    "interactions = pd.read_csv(dataset_path, sep=',')\n",
    "# print(interactions)\n",
    "interactions_seqpairs = pd.concat([interactions['RNA_aa_code'], interactions['target_aa_code'], interactions['Y']], axis=1)\n",
    "# print(interactions_seqpairs)"
   ]
  },
  {
   "cell_type": "markdown",
   "id": "b7f6fdfc-6731-4cfe-b352-5816c3f2aa0c",
   "metadata": {},
   "source": [
    "# 4 Load dataset embedding"
   ]
  },
  {
   "cell_type": "code",
   "execution_count": 6,
   "id": "38cd9c25-0f87-4f96-a296-432b988a2e98",
   "metadata": {},
   "outputs": [],
   "source": [
    "### 导入测试集预训练的嵌入 ###\n",
    "# Read In rnas and targets dataframes to pass to AIBind after changing column names \n",
    "with open('data/Mol2Vec/RPI_'+ unseen_Dataset +'_rnafm_embed_normal.pkl', 'rb') as file: \n",
    "    test_rnas = pkl.load(file)\n",
    "    \n",
    "with open('data/Mol2Vec/RPI_' + unseen_Dataset + '_proteinprottrans_embed_normal.pkl', 'rb') as file: \n",
    "    test_targets = pkl.load(file)\n",
    "\n",
    "# print(test_rnas)\n",
    "# print(len(test_rnas))\n",
    "# print(test_targets)\n",
    "# print(type(test_targets))"
   ]
  },
  {
   "cell_type": "code",
   "execution_count": 7,
   "id": "4406cb5d-3748-4e80-8573-11de4af2ac64",
   "metadata": {},
   "outputs": [],
   "source": [
    "### RNA和蛋白质分别的嵌入的长度\n",
    "rna_vector_length = 640\n",
    "protein_vector_length = 1024"
   ]
  },
  {
   "cell_type": "code",
   "execution_count": 8,
   "id": "b51ad541-9a71-4cd1-b203-71ea72cf95aa",
   "metadata": {},
   "outputs": [],
   "source": [
    "# 将节点的embedding变成np矩阵\n",
    "test_rna_embeddings = test_rnas['normalized_embeddings']\n",
    "test_rna_array = np.zeros((len(test_rnas['normalized_embeddings']), rna_vector_length))\n",
    "\n",
    "test_target_embeddings = test_targets['normalized_embeddings']\n",
    "test_target_array = np.zeros((len(test_targets['normalized_embeddings']), protein_vector_length))\n",
    "\n",
    "        # 使用 for 循环逐行赋值\n",
    "for i in range(len(test_rnas['normalized_embeddings'])):\n",
    "    test_rna_array[i, :] = test_rna_embeddings.iloc[i]\n",
    "\n",
    "        # 使用 for 循环逐行赋值\n",
    "for i in range(len(test_targets['normalized_embeddings'])):\n",
    "    test_target_array[i, :] = test_target_embeddings.iloc[i]\n"
   ]
  },
  {
   "cell_type": "markdown",
   "id": "d925b0a8-253f-4a3f-92a6-38dcacb56954",
   "metadata": {},
   "source": [
    "## 导入graphsage的嵌入"
   ]
  },
  {
   "cell_type": "code",
   "execution_count": 9,
   "id": "e18a1425-b714-434c-b85f-8baa6ecaabb4",
   "metadata": {},
   "outputs": [],
   "source": [
    "### 补齐到指定长度（为了graphsage补齐）\n",
    "# 指定补齐的长度\n",
    "rna_padding_length = rna_vector_length\n",
    "\n",
    "# 创建一个新数组，将每一行后面补齐零到指定长度\n",
    "test_rna_array = np.array([np.pad(row, (0, rna_padding_length - len(row)), 'constant') for row in test_rna_array])\n",
    "\n",
    "# 指定补齐的长度\n",
    "target_padding_length = protein_vector_length\n",
    "\n",
    "# 创建一个新数组，将每一行后面补齐零到指定长度\n",
    "test_target_array = np.array([np.pad(row, (0, target_padding_length - len(row)), 'constant') for row in test_target_array])\n"
   ]
  },
  {
   "cell_type": "code",
   "execution_count": 10,
   "id": "f1d977a6-6eac-42a7-9108-25d5d59dd1f5",
   "metadata": {},
   "outputs": [],
   "source": [
    "vecnet_object.normalized_rna_embeddings = test_rna_array\n",
    "vecnet_object.normalized_target_embeddings = test_target_array"
   ]
  },
  {
   "cell_type": "markdown",
   "id": "ca91ea59-ad3c-45bd-b510-bc9ef8955f0f",
   "metadata": {},
   "source": [
    "# 5 准备测试"
   ]
  },
  {
   "cell_type": "code",
   "execution_count": 11,
   "id": "c54d3aa1-b6cc-4ada-b6ca-7067e1b7fa7b",
   "metadata": {},
   "outputs": [],
   "source": [
    "# print(interactions_seqpairs)\n",
    "interactions_seqpairs_copy = interactions_seqpairs.copy()\n",
    "interactions_seqpairs_copy = interactions_seqpairs_copy[interactions_seqpairs_copy['RNA_aa_code'].apply(len) > 100].reset_index(drop=True)\n",
    "interactions_seqpairs_copy = interactions_seqpairs_copy[interactions_seqpairs_copy['Y'] == 1].reset_index(drop=True)\n",
    "# print(interactions_seqpairs_copy)"
   ]
  },
  {
   "cell_type": "code",
   "execution_count": 12,
   "id": "f7812cb2-11e8-455b-8395-c9c71c23a8ca",
   "metadata": {},
   "outputs": [
    {
     "name": "stderr",
     "output_type": "stream",
     "text": [
      "/tmp/ipykernel_24512/3727029416.py:28: SettingWithCopyWarning: \n",
      "A value is trying to be set on a copy of a slice from a DataFrame\n",
      "\n",
      "See the caveats in the documentation: https://pandas.pydata.org/pandas-docs/stable/user_guide/indexing.html#returning-a-view-versus-a-copy\n",
      "  interactions_seqpairs_balanced.rename(columns={'Labels': 'Y'}, inplace=True)\n"
     ]
    }
   ],
   "source": [
    "negative_dataframe_file = 'data/interactions/NPInter5.xlsx'\n",
    "negative_dataframe = pd.read_excel(negative_dataframe_file)\n",
    "# print(negative_dataframe)\n",
    "\n",
    "\n",
    "Protein_sequence = pd.DataFrame(columns=['target_aa_code'])\n",
    "# print(Protein_sequence)\n",
    "RNA_sequence = pd.DataFrame(columns=['RNA_aa_code'])\n",
    "# print(RNA_sequence)\n",
    "\n",
    "for i in range(len(negative_dataframe)):\n",
    "    protein_name = negative_dataframe['Protein names'].iloc[i]\n",
    "    protein_sequence = interactions[interactions['Protein names'] == protein_name]['target_aa_code'].iloc[0]\n",
    "    # print(protein_sequence)\n",
    "    Protein_sequence.loc[i] = protein_sequence\n",
    "\n",
    "    rna_name = negative_dataframe['RNA names'].iloc[i]\n",
    "    # print(rna_name)\n",
    "    \n",
    "    rna_sequence = interactions[interactions['RNA names'] == rna_name]['RNA_aa_code'].iloc[0]\n",
    "    # print(rna_sequence)\n",
    "    RNA_sequence.loc[i] = rna_sequence\n",
    "# print(Protein_sequence)\n",
    "# print(RNA_sequence)\n",
    "negative_interaction_dataframe = pd.concat([negative_dataframe, Protein_sequence, RNA_sequence], axis=1)\n",
    "# print(negative_interaction_dataframe)\n",
    "interactions_seqpairs_balanced = negative_interaction_dataframe[['target_aa_code','RNA_aa_code','Labels']]\n",
    "interactions_seqpairs_balanced.rename(columns={'Labels': 'Y'}, inplace=True)\n",
    "# print(interactions_seqpairs_balanced)"
   ]
  },
  {
   "cell_type": "code",
   "execution_count": 13,
   "id": "64f49f0f-46a3-48dc-9c74-25585ae9ed5d",
   "metadata": {
    "scrolled": true
   },
   "outputs": [
    {
     "name": "stdout",
     "output_type": "stream",
     "text": [
      "————————————————————————————————————————\n",
      "Run_0\n",
      "————————————————————————————————————————\n",
      "torch.Size([1471, 100])\n",
      "torch.Size([2364, 4488])\n",
      "torch.Size([2364, 2952])\n",
      "——————————————————————————————————————————————————\n",
      "Performance of Run_0\n",
      "——————————————————————————————————————————————————\n",
      "AUROC : 0.824\n",
      "AUPRC : 0.843\n",
      "\n",
      "————————————————————————————————————————\n",
      "Run_1\n",
      "————————————————————————————————————————\n",
      "torch.Size([1471, 100])\n",
      "torch.Size([2364, 4488])\n",
      "torch.Size([2364, 2952])\n",
      "——————————————————————————————————————————————————\n",
      "Performance of Run_1\n",
      "——————————————————————————————————————————————————\n",
      "AUROC : 0.783\n",
      "AUPRC : 0.796\n",
      "\n",
      "————————————————————————————————————————\n",
      "Run_2\n",
      "————————————————————————————————————————\n",
      "torch.Size([1471, 100])\n",
      "torch.Size([2364, 4488])\n",
      "torch.Size([2364, 2952])\n",
      "——————————————————————————————————————————————————\n",
      "Performance of Run_2\n",
      "——————————————————————————————————————————————————\n",
      "AUROC : 0.783\n",
      "AUPRC : 0.813\n",
      "\n",
      "————————————————————————————————————————\n",
      "Run_3\n",
      "————————————————————————————————————————\n",
      "torch.Size([1471, 100])\n",
      "torch.Size([2364, 4488])\n",
      "torch.Size([2364, 2952])\n",
      "——————————————————————————————————————————————————\n",
      "Performance of Run_3\n",
      "——————————————————————————————————————————————————\n",
      "AUROC : 0.772\n",
      "AUPRC : 0.806\n",
      "\n",
      "————————————————————————————————————————\n",
      "Run_4\n",
      "————————————————————————————————————————\n",
      "torch.Size([1471, 100])\n",
      "torch.Size([2364, 4488])\n",
      "torch.Size([2364, 2952])\n",
      "——————————————————————————————————————————————————\n",
      "Performance of Run_4\n",
      "——————————————————————————————————————————————————\n",
      "AUROC : 0.827\n",
      "AUPRC : 0.841\n",
      "\n",
      "——————————————————————————————————————————————————\n",
      "Validation Performance of Dataset TheNovel: \n",
      "——————————————————————————————————————————————————\n",
      "AUROC : 0.798\n",
      "AUPRC : 0.82\n",
      "\n"
     ]
    }
   ],
   "source": [
    "graphsage_model_path = vecnet_object.model_out_dir\n",
    "result_auc_aup_path = 'result/' + 'Mymethod' + '_' + 'TrainNPInter2' + '_' + 'TestNPInter5' + '_fold'\n",
    "embedding_type = 'Pretrain'\n",
    "vecnet_object.get_TheNovel_test_results(model_dataset=model_Dataset, \n",
    "                                                  graphsage_path=graphsage_model_path, \n",
    "                                                  unseen_dataset=unseen_Dataset, \n",
    "                                                  test_dataframe=interactions_seqpairs_balanced,\n",
    "                                                  rna_vector_length=rna_vector_length, \n",
    "                                                  protein_vector_length=protein_vector_length,\n",
    "                                                  rnas=test_rnas,\n",
    "                                                  proteins=test_proteins,\n",
    "                                                  result_path=result_auc_aup_path, \n",
    "                                                  embedding_type=embedding_type)"
   ]
  },
  {
   "cell_type": "code",
   "execution_count": null,
   "id": "09b8f376-3114-495a-b0e3-15564322d380",
   "metadata": {},
   "outputs": [],
   "source": []
  },
  {
   "cell_type": "code",
   "execution_count": null,
   "id": "f7c44024-ed1b-4197-862e-9ca014d8abf7",
   "metadata": {},
   "outputs": [],
   "source": []
  },
  {
   "cell_type": "code",
   "execution_count": null,
   "id": "285d710a-6a84-413a-8811-c398c5790f9d",
   "metadata": {},
   "outputs": [],
   "source": []
  },
  {
   "cell_type": "code",
   "execution_count": null,
   "id": "44df602f-bd40-4b7b-88c5-370c0e36ee05",
   "metadata": {},
   "outputs": [],
   "source": []
  }
 ],
 "metadata": {
  "kernelspec": {
   "display_name": "Python 3 (ipykernel)",
   "language": "python",
   "name": "python3"
  },
  "language_info": {
   "codemirror_mode": {
    "name": "ipython",
    "version": 3
   },
   "file_extension": ".py",
   "mimetype": "text/x-python",
   "name": "python",
   "nbconvert_exporter": "python",
   "pygments_lexer": "ipython3",
   "version": "3.8.18"
  }
 },
 "nbformat": 4,
 "nbformat_minor": 5
}
