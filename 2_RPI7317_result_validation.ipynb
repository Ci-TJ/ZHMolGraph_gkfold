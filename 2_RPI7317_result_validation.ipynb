{
 "cells": [
  {
   "cell_type": "markdown",
   "id": "f3cd4dac-2fe7-490f-8c0a-e1ec89e9c7d2",
   "metadata": {},
   "source": [
    "# 1.Environment and data preparation"
   ]
  },
  {
   "cell_type": "markdown",
   "id": "e3758aa8-7049-46b8-8b61-f8ff328c2717",
   "metadata": {},
   "source": [
    "## 1.1.Import"
   ]
  },
  {
   "cell_type": "code",
   "execution_count": null,
   "id": "f4478f40-9a88-43b8-badd-2e9ad3a8d42a",
   "metadata": {
    "scrolled": true
   },
   "outputs": [],
   "source": [
    "import pandas as pd\n",
    "import os\n",
    "import re\n",
    "from tqdm import tqdm\n",
    "import importlib\n",
    "from matplotlib.pyplot import figure\n",
    "from ZHMolGraph.import_modules import *\n",
    "from ZHMolGraph import ZHMolGraph\n",
    "import pickle"
   ]
  },
  {
   "cell_type": "code",
   "execution_count": null,
   "id": "d18a0c5c-a789-421b-a674-a643e1104be6",
   "metadata": {},
   "outputs": [],
   "source": [
    "importlib.reload(ZHMolGraph)  "
   ]
  },
  {
   "cell_type": "markdown",
   "id": "a6b6ae48-4980-4091-b317-6e06ec1708f8",
   "metadata": {},
   "source": [
    "## 1.2.GPU Setting"
   ]
  },
  {
   "cell_type": "code",
   "execution_count": null,
   "id": "19705d39-f898-4141-a660-b1ecd6763a0b",
   "metadata": {},
   "outputs": [],
   "source": [
    "str(subprocess.check_output('nvidia-smi', shell = True)).split('\\\\n')"
   ]
  },
  {
   "cell_type": "code",
   "execution_count": null,
   "id": "9e120e80-b5da-4d1c-88a6-f6c0174155d6",
   "metadata": {},
   "outputs": [],
   "source": [
    "os.environ[\"CUDA_VISIBLE_DEVICES\"] = \"0\"\n",
    "print(tensorflow.config.list_physical_devices('GPU'))"
   ]
  },
  {
   "cell_type": "markdown",
   "id": "8fb518d4-ed4e-4d65-bbba-ffee8825172e",
   "metadata": {},
   "source": [
    "## 1.3.Define my vecnn structure"
   ]
  },
  {
   "cell_type": "code",
   "execution_count": null,
   "id": "ed6f378a-2cf6-4723-b616-373618d21c8c",
   "metadata": {},
   "outputs": [],
   "source": [
    "Dataset=\"RPI7317\""
   ]
  },
  {
   "cell_type": "code",
   "execution_count": null,
   "id": "40515bb0-3226-461f-b9ae-ed70df4d4a91",
   "metadata": {},
   "outputs": [],
   "source": [
    "# Read In rnas and proteins dataframes to pass to AIBind after changing column names \n",
    "with open('data/Mol2Vec/RPI_'+ Dataset +'_rnafm_embed_normal.pkl', 'rb') as file: \n",
    "    rnas = pkl.load(file)\n",
    "    \n",
    "with open('data/Mol2Vec/RPI_' + Dataset + '_proteinprottrans_embed_normal.pkl', 'rb') as file: \n",
    "    proteins = pkl.load(file)\n",
    "\n",
    "print(rnas)\n",
    "print(len(rnas))\n",
    "print(proteins)\n",
    "print(type(proteins))\n"
   ]
  },
  {
   "cell_type": "code",
   "execution_count": null,
   "id": "32ef2cc0-03e9-40b9-8813-2986111f871c",
   "metadata": {},
   "outputs": [],
   "source": [
    "# create object\n",
    "vecnn_object = ZHMolGraph.ZHMolGraph(interactions_location = 'data/interactions/dataset_RPI_' + Dataset + '_RP.csv',\n",
    "                              interactions = None,\n",
    "                              interaction_y_name = 'Y',\n",
    "\n",
    "                              absolute_negatives_location = None,\n",
    "                              absolute_negatives = None,\n",
    "\n",
    "                              rnas_location = None,\n",
    "                              rnas_dataframe = rnas,\n",
    "                              rna_seq_name = 'RNA_aa_code',\n",
    "\n",
    "                              proteins_location = None,\n",
    "                              proteins_dataframe = proteins, \n",
    "                              protein_seq_name = 'target_aa_code',\n",
    "\n",
    "\n",
    "                              model_out_dir = f'trained_model/ZHMolGraph_VecNN_model_RPI_{Dataset}/',\n",
    "\n",
    "        \n",
    "\n",
    "                              debug = False)"
   ]
  },
  {
   "cell_type": "code",
   "execution_count": null,
   "id": "b7faa12a-0910-40a1-bb78-386daee374f9",
   "metadata": {},
   "outputs": [],
   "source": [
    "os.makedirs(vecnn_object.model_out_dir, exist_ok=True)"
   ]
  },
  {
   "cell_type": "code",
   "execution_count": null,
   "id": "5e6ce759-8ef9-4531-b3d0-974da908383c",
   "metadata": {},
   "outputs": [],
   "source": [
    "vecnn_object.rnas = rnas\n",
    "vecnn_object.proteins = proteins"
   ]
  },
  {
   "cell_type": "code",
   "execution_count": null,
   "id": "10996988-5ce9-46a3-8453-4d02a1a06b68",
   "metadata": {},
   "outputs": [],
   "source": [
    "all_samples = pd.concat([vecnn_object.interactions])"
   ]
  },
  {
   "cell_type": "code",
   "execution_count": null,
   "id": "4b13f0eb-f800-4570-8609-9981ffae2729",
   "metadata": {},
   "outputs": [],
   "source": [
    "Negative_samples = all_samples[all_samples['Y']==0]"
   ]
  },
  {
   "cell_type": "code",
   "execution_count": null,
   "id": "8904c664-6952-4adf-9c1b-c6be9cdc7b7a",
   "metadata": {},
   "outputs": [],
   "source": [
    "vecnn_object.negatives = pd.concat([Negative_samples[vecnn_object.rna_seq_name], Negative_samples[vecnn_object.protein_seq_name], \n",
    "                                    Negative_samples[vecnn_object.interaction_y_name]],axis=1)\n",
    "vecnn_object.negatives = vecnn_object.negatives.reset_index(drop=True)\n",
    "\n",
    "# print(vecnn_object.negatives)"
   ]
  },
  {
   "cell_type": "markdown",
   "id": "29e35eba-5386-498e-bcb1-be7fc0df47df",
   "metadata": {},
   "source": [
    "## 1.4.Create train and test dataset"
   ]
  },
  {
   "cell_type": "code",
   "execution_count": null,
   "id": "04b1d571-8ce3-4bc0-bb33-f00267b59dbc",
   "metadata": {},
   "outputs": [],
   "source": [
    "# 从文件加载变量\n",
    "train_sets_file = vecnn_object.model_out_dir + '/train_sets.pkl'\n",
    "with open(train_sets_file, 'rb') as f:\n",
    "    vecnn_object.train_sets = pickle.load(f)\n",
    "\n",
    "test_sets_file = vecnn_object.model_out_dir + '/test_sets.pkl'\n",
    "with open(test_sets_file, 'rb') as f:\n",
    "    vecnn_object.test_sets = pickle.load(f)"
   ]
  },
  {
   "cell_type": "markdown",
   "id": "a06a570b-0b5c-46f1-af0a-7f438758dfb9",
   "metadata": {},
   "source": [
    "## 1.5.Generate Mol2Vec and ProtVec Embeddings"
   ]
  },
  {
   "cell_type": "code",
   "execution_count": null,
   "id": "9056d719-284b-44c6-a5d5-a33192057d4e",
   "metadata": {},
   "outputs": [],
   "source": [
    "# Read In rnas and proteins dataframes to pass to AIBind after changing column names \n",
    "with open('data/Mol2Vec/RPI_'+ Dataset +'_rnafm_embed_normal.pkl', 'rb') as file: \n",
    "    rnas = pkl.load(file)\n",
    "    \n",
    "with open('data/Mol2Vec/RPI_' + Dataset + '_proteinprottrans_embed_normal.pkl', 'rb') as file: \n",
    "    proteins = pkl.load(file)\n",
    "\n",
    "# print(rnas)\n",
    "# print(len(rnas))\n",
    "# print(proteins)\n",
    "# print(type(proteins))\n",
    "\n",
    "vecnn_object.rnas = rnas\n",
    "vecnn_object.proteins = proteins"
   ]
  },
  {
   "cell_type": "code",
   "execution_count": null,
   "id": "332154b2-5103-476f-afaf-0c344b239107",
   "metadata": {},
   "outputs": [],
   "source": [
    "rna_vector_length = 640\n",
    "protein_vector_length = 1024"
   ]
  },
  {
   "cell_type": "code",
   "execution_count": null,
   "id": "a109e9a5-1338-4baa-9483-075a4cfd749f",
   "metadata": {},
   "outputs": [],
   "source": [
    "rna_embeddings = rnas['normalized_embeddings']\n",
    "rna_array = np.zeros((len(rnas['normalized_embeddings']), rna_vector_length))\n",
    "# 使用 for 循环逐行赋值\n",
    "for i in tqdm(range(len(rnas['normalized_embeddings']))):\n",
    "    rna_array[i, :] = rna_embeddings.iloc[i]\n",
    "    \n",
    "vecnn_object.rna_embeddings = rna_array"
   ]
  },
  {
   "cell_type": "code",
   "execution_count": null,
   "id": "c63fa469-25a5-4280-a52a-13a179dd81d8",
   "metadata": {
    "scrolled": true
   },
   "outputs": [],
   "source": [
    "\n",
    "protein_embeddings = proteins['normalized_embeddings']\n",
    "protein_array = np.zeros((len(proteins['normalized_embeddings']), protein_vector_length))\n",
    "# 使用 for 循环逐行赋值\n",
    "for i in tqdm(range(len(proteins['normalized_embeddings']))):\n",
    "    protein_array[i, :] = protein_embeddings.iloc[i]\n",
    "    \n",
    "vecnn_object.protein_embeddings = protein_array\n"
   ]
  },
  {
   "cell_type": "markdown",
   "id": "f64dd8c4-3cf0-4235-9359-bce3f08c4bfb",
   "metadata": {},
   "source": [
    "# 2. Get the benchmark validation results of ZHMolGraph"
   ]
  },
  {
   "cell_type": "code",
   "execution_count": null,
   "id": "f3899751-19d3-428c-8c7b-cc8a893d64d3",
   "metadata": {
    "scrolled": true
   },
   "outputs": [],
   "source": [
    "embedding_type = 'Pretrain'\n",
    "vecnn_object.get_benchmark_validation_ZHMolGraph_results(rna_embedding_length = rna_vector_length, \n",
    "                                                  protein_embedding_length = protein_vector_length, \n",
    "                                                  dataset = Dataset, \n",
    "                                                  embedding_type = embedding_type)"
   ]
  },
  {
   "cell_type": "code",
   "execution_count": null,
   "id": "ae69989f-0df4-4822-9a86-9b05b0ddf2bb",
   "metadata": {},
   "outputs": [],
   "source": []
  },
  {
   "cell_type": "code",
   "execution_count": null,
   "id": "ba8ee193-9faf-4b2b-99b3-658ec4f4b975",
   "metadata": {},
   "outputs": [],
   "source": []
  }
 ],
 "metadata": {
  "kernelspec": {
   "display_name": "Python 3 (ipykernel)",
   "language": "python",
   "name": "python3"
  },
  "language_info": {
   "codemirror_mode": {
    "name": "ipython",
    "version": 3
   },
   "file_extension": ".py",
   "mimetype": "text/x-python",
   "name": "python",
   "nbconvert_exporter": "python",
   "pygments_lexer": "ipython3",
   "version": "3.8.18"
  }
 },
 "nbformat": 4,
 "nbformat_minor": 5
}
